{
 "cells": [
  {
   "cell_type": "code",
   "execution_count": 4,
   "id": "554fd7d2",
   "metadata": {
    "ExecuteTime": {
     "end_time": "2022-01-10T16:13:30.275002Z",
     "start_time": "2022-01-10T16:13:30.259914Z"
    }
   },
   "outputs": [
    {
     "name": "stdout",
     "output_type": "stream",
     "text": [
      "0.04000000000000001\n",
      "0.19\n",
      "0.31\n",
      "Output:  0\n"
     ]
    }
   ],
   "source": [
    "# Implementing a basic perceptron function.\n",
    "x_input = [0.1,0.5,0.2]\n",
    "w_weights = [0.4,0.3,0.6]\n",
    "threshold = 0.5\n",
    "\n",
    "\n",
    "def step_function(weighted_sum):\n",
    "    if weighted_sum > threshold:\n",
    "        return 1 \n",
    "    else:\n",
    "        return 0\n",
    "    \n",
    "def perceptron():\n",
    "    weighted_sum = 0 \n",
    "    for x,w in zip(x_input,w_weights):\n",
    "        weighted_sum += x*w\n",
    "        print(weighted_sum)\n",
    "    return step_function(weighted_sum)\n",
    "output = perceptron()\n",
    "print(\"Output: \" ,str(output))\n",
    "    "
   ]
  },
  {
   "cell_type": "code",
   "execution_count": null,
   "id": "4a38234a",
   "metadata": {},
   "outputs": [],
   "source": []
  }
 ],
 "metadata": {
  "kernelspec": {
   "display_name": "Python 3 (ipykernel)",
   "language": "python",
   "name": "python3"
  },
  "language_info": {
   "codemirror_mode": {
    "name": "ipython",
    "version": 3
   },
   "file_extension": ".py",
   "mimetype": "text/x-python",
   "name": "python",
   "nbconvert_exporter": "python",
   "pygments_lexer": "ipython3",
   "version": "3.8.12"
  },
  "toc": {
   "base_numbering": 1,
   "nav_menu": {},
   "number_sections": true,
   "sideBar": true,
   "skip_h1_title": false,
   "title_cell": "Table of Contents",
   "title_sidebar": "Contents",
   "toc_cell": false,
   "toc_position": {},
   "toc_section_display": true,
   "toc_window_display": false
  },
  "varInspector": {
   "cols": {
    "lenName": 16,
    "lenType": 16,
    "lenVar": 40
   },
   "kernels_config": {
    "python": {
     "delete_cmd_postfix": "",
     "delete_cmd_prefix": "del ",
     "library": "var_list.py",
     "varRefreshCmd": "print(var_dic_list())"
    },
    "r": {
     "delete_cmd_postfix": ") ",
     "delete_cmd_prefix": "rm(",
     "library": "var_list.r",
     "varRefreshCmd": "cat(var_dic_list()) "
    }
   },
   "types_to_exclude": [
    "module",
    "function",
    "builtin_function_or_method",
    "instance",
    "_Feature"
   ],
   "window_display": false
  }
 },
 "nbformat": 4,
 "nbformat_minor": 5
}
